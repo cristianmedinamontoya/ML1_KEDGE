{
 "cells": [
  {
   "cell_type": "code",
   "execution_count": 4,
   "metadata": {},
   "outputs": [
    {
     "name": "stdout",
     "output_type": "stream",
     "text": [
      "                            OLS Regression Results                            \n",
      "==============================================================================\n",
      "Dep. Variable:                      y   R-squared:                       0.223\n",
      "Model:                            OLS   Adj. R-squared:                  0.207\n",
      "Method:                 Least Squares   F-statistic:                     13.94\n",
      "Date:                Wed, 08 Nov 2023   Prob (F-statistic):           4.76e-06\n",
      "Time:                        11:20:09   Log-Likelihood:                -23.105\n",
      "No. Observations:                 100   AIC:                             52.21\n",
      "Df Residuals:                      97   BIC:                             60.03\n",
      "Df Model:                           2                                         \n",
      "Covariance Type:            nonrobust                                         \n",
      "==============================================================================\n",
      "                 coef    std err          t      P>|t|      [0.025      0.975]\n",
      "------------------------------------------------------------------------------\n",
      "const          1.3847      0.080     17.265      0.000       1.226       1.544\n",
      "x1             0.2869      0.117      2.447      0.016       0.054       0.520\n",
      "x2             0.4994      0.105      4.736      0.000       0.290       0.709\n",
      "==============================================================================\n",
      "Omnibus:                       62.521   Durbin-Watson:                   1.703\n",
      "Prob(Omnibus):                  0.000   Jarque-Bera (JB):                7.421\n",
      "Skew:                           0.084   Prob(JB):                       0.0245\n",
      "Kurtosis:                       1.676   Cond. No.                         5.35\n",
      "==============================================================================\n",
      "\n",
      "Notes:\n",
      "[1] Standard Errors assume that the covariance matrix of the errors is correctly specified.\n"
     ]
    }
   ],
   "source": [
    "import matplotlib.pyplot as plt\n",
    "import numpy as np\n",
    "import statsmodels.api as sm\n",
    "\n",
    "# random_binomials = np.random.binomial(n, p, size)\n",
    "# n = 10\n",
    "# p = 0.5\n",
    "# size = 100\n",
    "# print(random_binomials)\n",
    "nobs = 100\n",
    "X = np.random.random((nobs, 2))\n",
    "# print(X)\n",
    "X = sm.add_constant(X)\n",
    "beta = [1, .1, .5]\n",
    "e = np.random.random(nobs)\n",
    "y = np.dot(X, beta) + e\n",
    "\n",
    "# Fit your linear regression model\n",
    "model = sm.OLS(y, X).fit()\n",
    "\n",
    "# Residuals\n",
    "residuals = model.resid\n",
    "# Plot residuals vs. predicted values\n",
    "# plt.scatter(model.fittedvalues, residuals)\n",
    "# plt.axhline(y=0, color='red', linestyle='--')\n",
    "# plt.title('Residuals vs. Predicted Values')\n",
    "# plt.xlabel('Predicted Values')\n",
    "# plt.ylabel('Residuals')\n",
    "# plt.show()\n",
    "print(model.summary())\n"
   ]
  }
 ],
 "metadata": {
  "kernelspec": {
   "display_name": "Python 3",
   "language": "python",
   "name": "python3"
  },
  "language_info": {
   "codemirror_mode": {
    "name": "ipython",
    "version": 3
   },
   "file_extension": ".py",
   "mimetype": "text/x-python",
   "name": "python",
   "nbconvert_exporter": "python",
   "pygments_lexer": "ipython3",
   "version": "3.9.6"
  }
 },
 "nbformat": 4,
 "nbformat_minor": 2
}
